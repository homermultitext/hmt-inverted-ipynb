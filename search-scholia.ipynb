{
  "cells": [
    {
      "cell_type": "markdown",
      "source": [
        "# Search diplomatic text of HMT *scholia*\n",
        "\n",
        "\n",
        "### How to use this notebook\n",
        "\n",
        "1. First, run step 1 (e.g., by selecting the cell labelled **Step 1: load everything** and choosing \"Run all below\" from the \"Cell\" menu).  This will be slow, and your mileage may vary depending on how well your connection to different resources on the internet happens to be performing just then.\n",
        "2. Just below the cell labelled **Step 2: search**, fill in between quotation marks an argument to the function `search`. \n",
        "\n",
        "Then run the cell (e.g., by selecting it, and choosing \"Run cells\" from the \"Cell\" menu).\n",
        "\n"
      ],
      "metadata": {}
    },
    {
      "cell_type": "markdown",
      "source": [
        "# Step 2: search"
      ],
      "metadata": {}
    },
    {
      "cell_type": "code",
      "source": [
        "search(\"τέον\")"
      ],
      "outputs": [],
      "execution_count": null,
      "metadata": {
        "execution": {
          "iopub.status.busy": "2020-09-12T15:57:44.405Z",
          "iopub.execute_input": "2020-09-12T15:57:44.426Z"
        }
      }
    },
    {
      "cell_type": "markdown",
      "source": [
        "# Step 1. Load everything\n",
        "\n",
        "\n",
        "The most recent release of the archive is always available from [this directory](https://github.com/homermultitext/hmt-archive/tree/master/releases-cex):  you can check there to update the release version in the following cell."
      ],
      "metadata": {}
    },
    {
      "cell_type": "code",
      "source": [
        "// Check for most recent release at\n",
        "// https://github.com/homermultitext/hmt-archive/tree/master/releases-cex\n",
        "// and change this value if needed:\n",
        "val releaseId = \"2020i\""
      ],
      "outputs": [],
      "execution_count": null,
      "metadata": {
        "execution": {
          "iopub.status.busy": "2020-09-12T15:52:48.510Z",
          "iopub.execute_input": "2020-09-12T15:52:48.524Z",
          "iopub.status.idle": "2020-09-12T15:52:56.847Z"
        }
      }
    },
    {
      "cell_type": "markdown",
      "source": [
        "\n",
        "## Configure Jupyter notebook"
      ],
      "metadata": {}
    },
    {
      "cell_type": "code",
      "source": [
        "\n",
        "// 1. Add maven repository where we can find our libraries\n",
        "val myBT = coursierapi.MavenRepository.of(\"https://dl.bintray.com/neelsmith/maven\")\n",
        "interp.repositories() ++= Seq(myBT)"
      ],
      "outputs": [],
      "execution_count": null,
      "metadata": {
        "execution": {
          "iopub.status.busy": "2020-09-12T15:52:56.866Z",
          "iopub.execute_input": "2020-09-12T15:52:56.883Z",
          "iopub.status.idle": "2020-09-12T15:53:00.999Z"
        }
      }
    },
    {
      "cell_type": "code",
      "source": [
        "// 2. Make libraries available with `$ivy` imports:\n",
        "import $ivy.`edu.holycross.shot::scm:7.4.0`\n",
        "import $ivy.`edu.holycross.shot::ohco2:10.20.4`\n",
        "import $ivy.`edu.holycross.shot.cite::xcite:4.3.0`\n",
        "import $ivy.`edu.holycross.shot::dse:7.1.3`\n",
        "import $ivy.`edu.holycross.shot::greek:9.0.0`"
      ],
      "outputs": [],
      "execution_count": null,
      "metadata": {
        "collapsed": true,
        "execution": {
          "iopub.status.busy": "2020-09-12T15:53:01.021Z",
          "iopub.execute_input": "2020-09-12T15:53:01.054Z",
          "iopub.status.idle": "2020-09-12T15:53:21.395Z"
        },
        "jupyter": {
          "outputs_hidden": true
        }
      }
    },
    {
      "cell_type": "markdown",
      "source": [
        "## Load HMT data\n",
        "\n",
        "Data releases of the Homer Multitext project archive are published as CITE libraries, and committed to the `hmt-archive` github repository in CEX format.\n",
        "\n"
      ],
      "metadata": {}
    },
    {
      "cell_type": "code",
      "source": [
        "import edu.holycross.shot.scm._\n",
        "\n",
        "val url = s\"https://raw.githubusercontent.com/homermultitext/hmt-archive/master/releases-cex/hmt-${releaseId}.cex\"\n",
        "val lib = CiteLibrarySource.fromUrl(url)"
      ],
      "outputs": [],
      "execution_count": null,
      "metadata": {
        "execution": {
          "iopub.status.busy": "2020-09-12T15:53:21.441Z",
          "iopub.execute_input": "2020-09-12T15:53:21.449Z",
          "iopub.status.idle": "2020-09-12T15:54:10.110Z"
        },
        "jupyter": {
          "outputs_hidden": true
        }
      }
    },
    {
      "cell_type": "code",
      "source": [
        "import edu.holycross.shot.ohco2._\n",
        "import edu.holycross.shot.dse._\n",
        "import edu.holycross.shot.greek._\n",
        "\n",
        "val corpus = lib.textRepository.get.corpus\n",
        "val dsev = DseVector.fromCiteLibrary(lib)\n",
        "val scholia = corpus.nodes.filter(_.urn.textGroup == \"tlg5026\")"
      ],
      "outputs": [],
      "execution_count": null,
      "metadata": {
        "collapsed": true,
        "execution": {
          "iopub.status.busy": "2020-09-12T15:54:10.136Z",
          "iopub.execute_input": "2020-09-12T15:54:10.145Z",
          "iopub.status.idle": "2020-09-12T15:54:30.876Z"
        },
        "jupyter": {
          "outputs_hidden": true
        }
      }
    },
    {
      "cell_type": "markdown",
      "source": [
        "## Search and format results "
      ],
      "metadata": {}
    },
    {
      "cell_type": "code",
      "source": [
        "\n",
        "val pageBaseUrl = \"http://www.homermultitext.org/facsimiles/venetus-a/\"\n",
        "\n",
        "def search(s: String) = {\n",
        "  val matchedPsgs = scholia.filter(_.text.contains(s))\n",
        "  val pls = if (matchedPsgs.size == 1) { \"\" } else  { \"s\" }\n",
        "  val hdr = s\"<h2>Search for string ${s}</h2>\" +\n",
        "  s\"<p>Found ${matchedPsgs.size} passage${pls}</p>\"\n",
        "  val results = for ( (urn, idx)  <- matchedPsgs.map(_.urn).zipWithIndex) yield {\n",
        "    val scholion = urn.collapsePassageBy(1)\n",
        "    //println(scholion)\n",
        "    val nd = corpus.nodes.filter(nd => scholion > nd.urn)\n",
        "    //println(nd)\n",
        "    val text = nd.map(n => \"<blockquote>\" + n.text.replaceAll(s, \"<strong>\" + s + \"</strong>\") + \"</blockquote>\" )\n",
        "    val pgOpt = dsev.tbsForText(scholion)\n",
        "    pgOpt match  {\n",
        "      case None => {\n",
        "\n",
        "        s\"<li> <strong>${idx + 1}/${matchedPsgs.size}</strong> ${scholion} (Sadly, no page indexed in DSE) \"  + text.mkString(\"\\n\")  + \"</li>\"\n",
        "      }\n",
        "      case _ => {\n",
        "        val pg = pgOpt.get.objectComponent\n",
        "        val url = pageBaseUrl + pg + \"/\"\n",
        "\n",
        "        val link = \"<a href=\\\"\" + url + \"\\\">facsimile</a>\"\n",
        "\n",
        "        s\"<li> <strong>${idx + 1}/${matchedPsgs.size}</strong> ${scholion}, page ${pg} (${link})\" + text.mkString(\"\\n\") + \"</li>\"\n",
        "      }\n",
        "    }\n",
        "  }\n",
        "  Html(hdr + results.mkString(\"\\n\"))\n",
        "}\n"
      ],
      "outputs": [],
      "execution_count": null,
      "metadata": {
        "execution": {
          "iopub.status.busy": "2020-09-12T15:54:30.901Z",
          "iopub.execute_input": "2020-09-12T15:54:30.913Z",
          "iopub.status.idle": "2020-09-12T15:54:45.545Z"
        }
      }
    }
  ],
  "metadata": {
    "kernel_info": {
      "name": "scala212"
    },
    "kernelspec": {
      "display_name": "Scala (2.12)",
      "language": "scala",
      "name": "scala212"
    },
    "language_info": {
      "name": "scala",
      "version": "2.12.11",
      "mimetype": "text/x-scala",
      "file_extension": ".scala",
      "nbconvert_exporter": "script",
      "codemirror_mode": "text/x-scala"
    },
    "nteract": {
      "version": "0.25.0"
    }
  },
  "nbformat": 4,
  "nbformat_minor": 2
}