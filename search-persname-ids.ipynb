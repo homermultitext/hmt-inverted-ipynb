{
 "cells": [
  {
   "cell_type": "markdown",
   "metadata": {},
   "source": [
    "# Search personal name IDs in HMT *scholia*\n",
    "\n",
    "\n",
    "### How to use this notebook\n",
    "\n",
    "1. First, run step 1 (e.g., by selecting the cell labelled **Step 1: load everything** and choosing \"Run all below\" from the \"Cell\" menu).  This will be slow, and your mileage may vary depending on how well your connection to different resources on the internet happens to be performing just then.\n",
    "2. Just below the cell labelled **Step 2: search**, fill in between quotation marks an argument to the function `passages`. \n",
    "\n",
    "Then run the cell (e.g., by selecting it, and choosing \"Run cells\" from the \"Cell\" menu).\n",
    "\n"
   ]
  },
  {
   "cell_type": "markdown",
   "metadata": {},
   "source": [
    "# Step 2: search"
   ]
  },
  {
   "cell_type": "code",
   "execution_count": null,
   "metadata": {
    "execution": {
     "iopub.execute_input": "2020-09-12T15:57:44.426Z",
     "iopub.status.busy": "2020-09-12T15:57:44.405Z"
    }
   },
   "outputs": [],
   "source": [
    "passages(\"pers1\")"
   ]
  },
  {
   "cell_type": "markdown",
   "metadata": {},
   "source": [
    "# Step 1. Load everything\n",
    "\n",
    "\n",
    "The most recent release of the archive is always available from [this directory](https://github.com/homermultitext/hmt-archive/tree/master/releases-cex):  you can check there to update the release version in the following cell."
   ]
  },
  {
   "cell_type": "code",
   "execution_count": null,
   "metadata": {
    "execution": {
     "iopub.execute_input": "2020-09-12T15:52:48.524Z",
     "iopub.status.busy": "2020-09-12T15:52:48.510Z",
     "iopub.status.idle": "2020-09-12T15:52:56.847Z"
    }
   },
   "outputs": [],
   "source": [
    "// Check for most recent release at\n",
    "// https://github.com/homermultitext/hmt-archive/tree/master/releases-cex\n",
    "// and change this value if needed:\n",
    "val releaseId = \"2020i\""
   ]
  },
  {
   "cell_type": "markdown",
   "metadata": {},
   "source": [
    "\n",
    "## Configure Jupyter notebook"
   ]
  },
  {
   "cell_type": "code",
   "execution_count": null,
   "metadata": {
    "execution": {
     "iopub.execute_input": "2020-09-12T15:52:56.883Z",
     "iopub.status.busy": "2020-09-12T15:52:56.866Z",
     "iopub.status.idle": "2020-09-12T15:53:00.999Z"
    }
   },
   "outputs": [],
   "source": [
    "// 1. Add maven repository where we can find our libraries\n",
    "val myBT = coursierapi.MavenRepository.of(\"https://dl.bintray.com/neelsmith/maven\")\n",
    "interp.repositories() ++= Seq(myBT)"
   ]
  },
  {
   "cell_type": "code",
   "execution_count": null,
   "metadata": {
    "execution": {
     "iopub.execute_input": "2020-09-12T15:53:01.054Z",
     "iopub.status.busy": "2020-09-12T15:53:01.021Z",
     "iopub.status.idle": "2020-09-12T15:53:21.395Z"
    },
    "jupyter": {
     "outputs_hidden": true
    }
   },
   "outputs": [],
   "source": [
    "// 2. Make libraries available with `$ivy` imports:\n",
    "import $ivy.`edu.holycross.shot::scm:7.4.0`\n",
    "import $ivy.`edu.holycross.shot::ohco2:10.20.4`\n",
    "import $ivy.`edu.holycross.shot.cite::xcite:4.3.0`\n",
    "import $ivy.`edu.holycross.shot::dse:7.1.3`\n",
    "import $ivy.`edu.holycross.shot::greek:9.0.0`"
   ]
  },
  {
   "cell_type": "markdown",
   "metadata": {},
   "source": [
    "## Load HMT data\n",
    "\n",
    "Data releases of the Homer Multitext project archive are published as CITE libraries, and committed to the `hmt-archive` github repository in CEX format.\n",
    "\n"
   ]
  },
  {
   "cell_type": "code",
   "execution_count": null,
   "metadata": {
    "execution": {
     "iopub.execute_input": "2020-09-12T15:53:21.449Z",
     "iopub.status.busy": "2020-09-12T15:53:21.441Z",
     "iopub.status.idle": "2020-09-12T15:54:10.110Z"
    },
    "jupyter": {
     "outputs_hidden": true
    }
   },
   "outputs": [],
   "source": [
    "import edu.holycross.shot.scm._\n",
    "\n",
    "val url = s\"https://raw.githubusercontent.com/homermultitext/hmt-archive/master/releases-cex/hmt-${releaseId}.cex\"\n",
    "val lib = CiteLibrarySource.fromUrl(url)"
   ]
  },
  {
   "cell_type": "code",
   "execution_count": null,
   "metadata": {
    "execution": {
     "iopub.execute_input": "2020-09-12T15:54:10.145Z",
     "iopub.status.busy": "2020-09-12T15:54:10.136Z",
     "iopub.status.idle": "2020-09-12T15:54:30.876Z"
    },
    "jupyter": {
     "outputs_hidden": true
    }
   },
   "outputs": [],
   "source": [
    "import edu.holycross.shot.ohco2._\n",
    "import edu.holycross.shot.dse._\n",
    "import edu.holycross.shot.greek._\n",
    "\n",
    "val corpus = lib.textRepository.get.corpus\n",
    "val dsev = DseVector.fromCiteLibrary(lib)\n",
    "val scholia = corpus.nodes.filter(_.urn.textGroup == \"tlg5026\")"
   ]
  },
  {
   "cell_type": "code",
   "execution_count": null,
   "metadata": {},
   "outputs": [],
   "source": [
    "val dsev = DseVector.fromCiteLibrary(lib)"
   ]
  },
  {
   "cell_type": "markdown",
   "metadata": {},
   "source": [
    "## Load xml of scholia and index persons to scholia"
   ]
  },
  {
   "cell_type": "code",
   "execution_count": null,
   "metadata": {},
   "outputs": [],
   "source": [
    "val xmlUrl = s\"https://raw.githubusercontent.com/homermultitext/hmt-archive/master/releases-cex/hmt-${releaseId}-scholia-xml.cex\"\n",
    "val scholiaXml = CorpusSource.fromUrl(xmlUrl, cexHeader=false)\n",
    "\n",
    "import scala.xml._\n",
    "\n",
    "val pnIndex = for (n <- scholiaXml.nodes) yield {\n",
    "  val x = XML.loadString(n.text)\n",
    "  val pns = x \\\\ \"persName\"\n",
    "  pns.toVector.map(pn => {\n",
    "    val attValue = pn.attributes.asAttrMap.getOrElse(\"n\", \"No @n attribute on \" + pn.text)\n",
    "    n.urn -> attValue\n",
    "  })\n",
    "}\n",
    "val personMap = pnIndex.flatten.groupBy(_._2)\n"
   ]
  },
  {
   "cell_type": "code",
   "execution_count": null,
   "metadata": {},
   "outputs": [],
   "source": [
    "import edu.holycross.shot.cite._\n",
    "val baseUrn = \"urn:cite2:hmt:pers.v1:\"\n",
    "// Collect passages where name occurs\n",
    "def passageRefs(pers: String): Vector[CtsUrn] = {\n",
    "  val psgs = personMap(baseUrn + pers)\n",
    "  psgs.map(_._1)\n",
    "}"
   ]
  },
  {
   "cell_type": "markdown",
   "metadata": {},
   "source": [
    "## Search and format passages"
   ]
  },
  {
   "cell_type": "code",
   "execution_count": null,
   "metadata": {},
   "outputs": [],
   "source": [
    "\n",
    "def passages(pers: String) = {\n",
    "  val pageBaseUrl = \"http://www.homermultitext.org/facsimiles/venetus-a/\"\n",
    "\n",
    "  val urns = passageRefs(pers)\n",
    "  val s = if (urns.size == 1) { \"\" } else  { \"s\" }\n",
    "  val hdr = s\"<h2>Search for ID <code>${pers}</code></h2>\" +\n",
    "  \"<p>Found \" + urns.size + s\" passage${s} for <code>${pers}</code></p>\"\n",
    "\n",
    "  val results = for ( (urn, idx)  <- urns.zipWithIndex) yield {\n",
    "    val scholion = urn.collapsePassageBy(1)\n",
    "    val nd = corpus.nodes.filter(nd => scholion > nd.urn)\n",
    "    val text = nd.map(n => s\"<blockquote>${n.text}</blockquote>\" )\n",
    "    val pgOpt = dsev.tbsForText(scholion)\n",
    "\n",
    "    pgOpt match  {\n",
    "      case None => {\n",
    "        s\"<li> <strong>${idx + 1}/${urns.size}</strong> ${scholion} (Sadly, no page indexed in DSE record)\" + text.mkString(\"\\n\")\n",
    "      }\n",
    "      case _ => {\n",
    "        val pg = pgOpt.get.objectComponent\n",
    "        val url = pageBaseUrl + pg + \"/\"\n",
    "        val link = \"<a href=\\\"\" + url + \"\\\">facsimile</a>\"\n",
    "\n",
    "        s\"<li> <strong>${idx + 1}/${urns.size}</strong> ${scholion}, page ${pg} (${link})\" + text.mkString(\"\\n\")\n",
    "      }\n",
    "    }\n",
    "  }\n",
    "  Html(hdr + results.mkString(\"\\n\"))\n",
    "}"
   ]
  }
 ],
 "metadata": {
  "kernel_info": {
   "name": "scala212"
  },
  "kernelspec": {
   "display_name": "Scala (2.12)",
   "language": "scala",
   "name": "scala212"
  },
  "language_info": {
   "codemirror_mode": "text/x-scala",
   "file_extension": ".scala",
   "mimetype": "text/x-scala",
   "name": "scala",
   "nbconvert_exporter": "script",
   "version": "2.12.10"
  },
  "nteract": {
   "version": "0.25.0"
  }
 },
 "nbformat": 4,
 "nbformat_minor": 2
}
