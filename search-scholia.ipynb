{
 "cells": [
  {
   "cell_type": "markdown",
   "metadata": {},
   "source": [
    "# Search diplomatic text of HMT *scholia*\n",
    "\n",
    "\n",
    "### How to use this notebook\n",
    "\n",
    "1. First, run step 1 (e.g., by selecting the cell labelled **Step 1: load everything** and choosing \"Run all below\" from the \"Cell\" menu).  This will be slow, and your mileage may vary depending on how well your connection to different resources on the internet happens to be performing just then.\n",
    "2. Just below the cell labelled **Step 2: search**, fill in between quotation marks an argument to the function `search`. \n",
    "\n",
    "Then run the cell (e.g., by selecting it, and choosing \"Run cells\" from the \"Cell\" menu).\n",
    "\n"
   ]
  },
  {
   "cell_type": "markdown",
   "metadata": {},
   "source": [
    "# Step 2: search"
   ]
  },
  {
   "cell_type": "code",
   "execution_count": 7,
   "metadata": {},
   "outputs": [
    {
     "name": "stderr",
     "output_type": "stream",
     "text": [
      "\u001b[34m2020-09-12 11:37:52.033Z\u001b[0m  \u001b[33mwarn\u001b[0m [\u001b[37mDseVector\u001b[0m] \u001b[33mNo text-bearing surface found for urn:cts:greekLit:tlg5026.msA.hmt:3.527\u001b[0m  \u001b[34m- (DseVector.scala:186)\u001b[0m\n",
      "\u001b[34m2020-09-12 11:37:59.210Z\u001b[0m  \u001b[33mwarn\u001b[0m [\u001b[37mDseVector\u001b[0m] \u001b[33mNo text-bearing surface found for urn:cts:greekLit:tlg5026.msA.hmt:11.228\u001b[0m  \u001b[34m- (DseVector.scala:186)\u001b[0m\n"
     ]
    },
    {
     "data": {
      "text/html": [
       "<h2>Search for string κονομ</h2><p>Found 8 passages</p><li> <strong>1/8</strong> urn:cts:greekLit:tlg5026.msA.hmt:3.527 (Sadly, no page indexed in DSE) <blockquote>δια τί δὲ ὁ Μενέλαος συγκλασθέντος αὐτῷ τοῦ ξίφους οὐκ εσπάσατ  τοῦ ᾿Αλεξάνδ  · ῥητέον οὖν ἠ ὅτι ἔκφρων ἐγένετο τῷ κινδύνω τῶν λογισμῶν ἐκκλαπείς ἡ πάντας ῞Ελλη  ἐκλῦσαι ἠθέλησεν αὔξων τὸ κατόρθωμα· ῆ καὶ δι οι<strong>κονομ</strong>ίαν ὁ ποιητης ἐσεσώκει δι Αφροδίτης τὸν Πάριν · ἐλέλυτο γὰρ τὰ τῆς ὑποθέσεως τῷ ἐκείνου θανάτῳ ⁑</blockquote></li>\n",
       "<li> <strong>2/8</strong> urn:cts:greekLit:tlg5026.msA.hmt:4.9, page 51r (<a href=\"http://www.homermultitext.org/facsimiles/venetus-a/51r/\">facsimile</a>)<blockquote>πότνια Ἤβη</blockquote>\n",
       "<blockquote>ὅτι παρθ  ἡ Ἠβη οἰνοχοεῖ γὰρ οὑκ άρα γεγαμηται ὑφ Ηρακλέους ὡς ἐν τοῖς κατ  τὴν νεκυίαν ἠθετημένοις . δι ὴν δὲ αιτίαν οὐ πάρεστη Γανυμηδ  ὧν οἰνοχόος τοῦ Διὸς . ἔνιοι μέν φησιν ὅτι τοῦ Διὸς μόνου ὦν διακωνος οὐκ εξην αὐτὸν κοινῶς πασιν οἰνοχοεῖν . ἡ δὲ Ἥβη εὐλόγως ὅτι κοινῆ πασιν ἐστίν ἔνιοι δὲ φασιν ὅτι σκεψεως πε  τῆς Ιλίου πορθήσεως γενομένης εὐοι<strong>κονομ</strong>ήσω ἀπέστη τοῦ συνεδρίου ἵνα μηδεν ἐναντὶον γένηται δια τὴν πρὸς αυτὸν χάριν ⁑</blockquote></li>\n",
       "<li> <strong>3/8</strong> urn:cts:greekLit:tlg5026.msA.hmt:9.188, page 115r (<a href=\"http://www.homermultitext.org/facsimiles/venetus-a/115r/\">facsimile</a>)<blockquote>οἱ δὲ</blockquote>\n",
       "<blockquote>βαρυτονητέον : δύο γὰρ μέρη λόγου ἀντι τοῦ οὗτοι δὲ . εἰσὶ δε οἳ προπεριέσπασαν οὐκ εὖ χρεία γάρ ἐστι τοῦ δὲ συνδέσμου , ἐζήτηται δὲ πῶς μᾶλλον οὐ πρεσβεύει ὡς συνετώτερος : ἔστιν δὲ λέγειν ὅτι κατ οι<strong>κονομ</strong>ιαν ὑπελείφθην ἵνα ἂν ἀπο τύχωσιν οἱ πε  οδ  αὐτὸς ὕστερον πείση : ἄτοπον γὰρ ἢν νῦν πρεσβεύειν τὸν Νέστορα : ὅτε δεῖ πάντως τὸν Ἀχιλλέα μὴ πεῖσθῆναι : ἀδοξία δὲ ἤν Νέστορα μη δυνηθῆναι πεῖσαι : οἱ δὲ φασὶν ὅτι ἐπει δὴ ἐχθρὸς ἤν Ἀχιλλέως λοιδορήσας ἀντὸν πρὸς Ἀγαμέμνονα . τοὺς δε δ' ἔα φθινύθει ἕνα καὶ δύο ⁑</blockquote></li>\n",
       "<li> <strong>4/8</strong> urn:cts:greekLit:tlg5026.msA.hmt:11.228 (Sadly, no page indexed in DSE) <blockquote>ἡδὲ μέλι χλωρὸν :</blockquote>\n",
       "<blockquote>πρόσφατον νέον : οὕτω γὰρ καὶ ἡμεῖς χλωρὸν τυρὸν λέγομεν τὸν νέον : δια τί δε τὸν Πάτροκλον ὁ Αχιλλεὺς πέμπει : ῥητέον ὅτι κατ οι<strong>κονομ</strong>ίαν ἐπειδὴ γὰρ ἄπρακτος ἡ πρεσβεία γεγένηται διὰ Πατρόκλου Νέστορα βούλεται τοῦτο κατορθῶσαι ὅπερ οὐκ εποίησαν οἱ πρέσβεις : ὥστε προῳκονόμησεν τοῦτο ὁ ποιητὴς ἵνα καὶ Νεστορος τὴν τῶν λόγων δύναμιν παραστήσῃ καὶ Ἀχιλλέα δόξῃ μετ ευλόγου προφάσεως εἰς τὸν πόλεμον ἐξάγειν ⁑</blockquote></li>\n",
       "<li> <strong>5/8</strong> urn:cts:greekLit:tlg5026.msA.hmt:16.208v5, page 208v (<a href=\"http://www.homermultitext.org/facsimiles/venetus-a/208v/\">facsimile</a>)<blockquote>δια τί οὖν μόνον τὸ Πηλιωτικον αύτὸ ἀναρμοστεῖ δόρυ τῶν ἄλλων ἀρμοσάν τῶν ὅπλων~ Μεγακλείδης ἐν δευτέρῳ Ὁμήρου προ οἰ<strong>κονομ</strong>εῖσται φησὶν Ὅμηρον τὴν ὁπλοιΐαν . καὶ ἐπειδὴ τὰς μὲν ἄλλας ὕλας ἐξ ὧν ὁ Ἥφαιστος ἐδη μιούργει τὰ ὅπλα τὸν χρὺσον καὶ τὸν ἄργυρον οὐκ απίθανον εἶναι καὶ ἐν οὐνω δένδρον δὲ οὐνιον λέγειν καραγελαστότατον ἦν , δια τοῦτο τὰ μὲν λοιπὰ ὅπλα πεποίηκε τὸν Πάτροκλον φεροντα ἃ καὶ ἀπολόμενα ἐτύγχανεν ἂν τῆς Ἡφαίστου δημιουργίας~ μόνον δὲ τὸ δόρυ ἑασαντα ἵνα σωθῆ καταλειπόμενον τοῦτο γὰρ ἀπολόμενον οὐκ ἂν ὁ Ἡφαιστος κατεσκεύασε πιθανῶς δία τὸ τὴν ὕλην αὐτοῦ μὴ οὑράνι ἀλλ ἔγγειον καὶ Πηλειῶτιν εἶναι ⁑</blockquote></li>\n",
       "<li> <strong>6/8</strong> urn:cts:greekLit:tlg5026.msA.hmt:18.77, page 243r (<a href=\"http://www.homermultitext.org/facsimiles/venetus-a/243r/\">facsimile</a>)<blockquote>οὐδ' ἐς Αχαιούς μίσγετο⁚</blockquote>\n",
       "<blockquote>οὔτε φαίνεται τῇ μρι  ἀπειθῶν . δια τὸ μὴ κεχωρηκέναι εἰς μέσην τὴν παράταξιν , οὔτε τῆς Ἥρας ἀνηκουστῶν δια τὸ μὴ πεφηνέναι ἐν τῷ πολέμῳ . ἄλλως δε οι<strong>κονομ</strong>ία ἐστι τοῦ ποιητοῦ τὸ τοιοῦτο , ἵνα μὴ δόξῃ ἄπιστα λέγειν⁚ εἰσαγαγὼν τὸν Ἀχιλλέα χωρὶς ὅπλων εἰς τὴν μάχην ⁑</blockquote></li>\n",
       "<li> <strong>7/8</strong> urn:cts:greekLit:tlg5026.msA.hmt:23.2601, page 305r (<a href=\"http://www.homermultitext.org/facsimiles/venetus-a/305r/\">facsimile</a>)<blockquote>ἁμφίθετος φιάλη~</blockquote>\n",
       "<blockquote>προς τὴν ἀμφίθετον ὅτι ἡ πανταχόθεν ὑπέρεισιν ἔχουσα καὶ ὅτι οἰ<strong>κονομ</strong>ικῶς ὑπολείπεται ἔπαθλον ἵνα μὴ ὁ Νέστωρ ἄτιμος γένηται ἐν τῷ ἐπι Πατρόκλῳ ἀγῶνι~ βέλτιον δὲ στίζειν ἐπι τὸ φιάλη καὶ τοῦ λόγου διαστέλλην ἀξιοῦντος ἵνα ἀφ ετέρας ἀρχῆς ἀναγινώσκωμεν τὴν Νέστορι δῶκεν Ἀχιλλεὺς ἀντι τοῦ ταύτην</blockquote></li>\n",
       "<li> <strong>8/8</strong> urn:cts:greekLit:tlg5026.msAim.hmt:17.17, page 226r (<a href=\"http://www.homermultitext.org/facsimiles/venetus-a/226r/\">facsimile</a>)<blockquote>σχέτλι'</blockquote>\n",
       "<blockquote>αγνοοῦσι τὰ ᾠ<strong>κονομ</strong>ημένα πε  τοῦ Σαρπηδόνος Ἀπόλλωνι ⁑</blockquote></li>"
      ]
     },
     "metadata": {},
     "output_type": "display_data"
    }
   ],
   "source": [
    "search(\"κονομ\")"
   ]
  },
  {
   "cell_type": "markdown",
   "metadata": {},
   "source": [
    "# Step 1. Load everything\n",
    "\n",
    "\n",
    "The most recent release of the archive is always available from [this directory](https://github.com/homermultitext/hmt-archive/tree/master/releases-cex):  you can check there to update the release version in the following cell."
   ]
  },
  {
   "cell_type": "code",
   "execution_count": null,
   "metadata": {},
   "outputs": [],
   "source": [
    "// Check for most recent release at\n",
    "// https://github.com/homermultitext/hmt-archive/tree/master/releases-cex\n",
    "// and change this value if needed:\n",
    "val releaseId = \"2020i\""
   ]
  },
  {
   "cell_type": "markdown",
   "metadata": {},
   "source": [
    "\n",
    "## Configure Jupyter notebook"
   ]
  },
  {
   "cell_type": "code",
   "execution_count": 1,
   "metadata": {},
   "outputs": [
    {
     "data": {
      "text/plain": [
       "\u001b[36mmyBT\u001b[39m: \u001b[32mcoursierapi\u001b[39m.\u001b[32mMavenRepository\u001b[39m = MavenRepository(https://dl.bintray.com/neelsmith/maven)"
      ]
     },
     "execution_count": 1,
     "metadata": {},
     "output_type": "execute_result"
    }
   ],
   "source": [
    "// 1. Add maven repository where we can find our libraries\n",
    "val myBT = coursierapi.MavenRepository.of(\"https://dl.bintray.com/neelsmith/maven\")\n",
    "interp.repositories() ++= Seq(myBT)"
   ]
  },
  {
   "cell_type": "code",
   "execution_count": 4,
   "metadata": {
    "collapsed": true
   },
   "outputs": [
    {
     "name": "stderr",
     "output_type": "stream",
     "text": [
      "Downloading https://repo1.maven.org/maven2/edu/holycross/shot/scm_2.12/7.4.0/scm_2.12-7.4.0.pom\n",
      "Downloaded https://repo1.maven.org/maven2/edu/holycross/shot/scm_2.12/7.4.0/scm_2.12-7.4.0.pom\n",
      "Downloading https://repo1.maven.org/maven2/edu/holycross/shot/scm_2.12/7.4.0/scm_2.12-7.4.0.pom.sha1\n",
      "Downloaded https://repo1.maven.org/maven2/edu/holycross/shot/scm_2.12/7.4.0/scm_2.12-7.4.0.pom.sha1\n",
      "Downloading https://dl.bintray.com/neelsmith/maven/edu/holycross/shot/scm_2.12/7.4.0/scm_2.12-7.4.0.pom\n",
      "Downloaded https://dl.bintray.com/neelsmith/maven/edu/holycross/shot/scm_2.12/7.4.0/scm_2.12-7.4.0.pom\n",
      "Downloading https://repo1.maven.org/maven2/edu/holycross/shot/citerelations_2.12/2.7.0/citerelations_2.12-2.7.0.pom\n",
      "Downloading https://repo1.maven.org/maven2/edu/holycross/shot/cite/xcite_2.12/4.3.0/xcite_2.12-4.3.0.pom\n",
      "Downloading https://repo1.maven.org/maven2/org/wvlet/airframe/airframe-log_2.12/20.5.2/airframe-log_2.12-20.5.2.pom\n",
      "Downloading https://repo1.maven.org/maven2/edu/holycross/shot/cex_2.12/6.5.0/cex_2.12-6.5.0.pom\n",
      "Downloading https://repo1.maven.org/maven2/edu/holycross/shot/citeobj_2.12/7.5.1/citeobj_2.12-7.5.1.pom\n",
      "Downloading https://repo1.maven.org/maven2/edu/holycross/shot/ohco2_2.12/10.20.3/ohco2_2.12-10.20.3.pom\n",
      "Downloaded https://repo1.maven.org/maven2/edu/holycross/shot/citerelations_2.12/2.7.0/citerelations_2.12-2.7.0.pom\n",
      "Downloading https://repo1.maven.org/maven2/edu/holycross/shot/citerelations_2.12/2.7.0/citerelations_2.12-2.7.0.pom.sha1\n",
      "Downloaded https://repo1.maven.org/maven2/edu/holycross/shot/cex_2.12/6.5.0/cex_2.12-6.5.0.pom\n",
      "Downloading https://repo1.maven.org/maven2/edu/holycross/shot/cex_2.12/6.5.0/cex_2.12-6.5.0.pom.sha1\n",
      "Downloaded https://repo1.maven.org/maven2/edu/holycross/shot/cite/xcite_2.12/4.3.0/xcite_2.12-4.3.0.pom\n",
      "Downloaded https://repo1.maven.org/maven2/edu/holycross/shot/citerelations_2.12/2.7.0/citerelations_2.12-2.7.0.pom.sha1\n",
      "Downloaded https://repo1.maven.org/maven2/edu/holycross/shot/citeobj_2.12/7.5.1/citeobj_2.12-7.5.1.pom\n",
      "Downloading https://repo1.maven.org/maven2/edu/holycross/shot/cite/xcite_2.12/4.3.0/xcite_2.12-4.3.0.pom.sha1\n",
      "Downloading https://dl.bintray.com/neelsmith/maven/edu/holycross/shot/citerelations_2.12/2.7.0/citerelations_2.12-2.7.0.pom\n",
      "Downloading https://repo1.maven.org/maven2/edu/holycross/shot/citeobj_2.12/7.5.1/citeobj_2.12-7.5.1.pom.sha1\n",
      "Downloaded https://repo1.maven.org/maven2/org/wvlet/airframe/airframe-log_2.12/20.5.2/airframe-log_2.12-20.5.2.pom\n",
      "Downloaded https://repo1.maven.org/maven2/edu/holycross/shot/cex_2.12/6.5.0/cex_2.12-6.5.0.pom.sha1\n",
      "Downloaded https://repo1.maven.org/maven2/edu/holycross/shot/cite/xcite_2.12/4.3.0/xcite_2.12-4.3.0.pom.sha1\n",
      "Downloaded https://repo1.maven.org/maven2/edu/holycross/shot/ohco2_2.12/10.20.3/ohco2_2.12-10.20.3.pom\n",
      "Downloading https://dl.bintray.com/neelsmith/maven/edu/holycross/shot/cite/xcite_2.12/4.3.0/xcite_2.12-4.3.0.pom\n",
      "Downloading https://dl.bintray.com/neelsmith/maven/edu/holycross/shot/cex_2.12/6.5.0/cex_2.12-6.5.0.pom\n",
      "Downloading https://repo1.maven.org/maven2/edu/holycross/shot/ohco2_2.12/10.20.3/ohco2_2.12-10.20.3.pom.sha1\n",
      "Downloaded https://repo1.maven.org/maven2/edu/holycross/shot/citeobj_2.12/7.5.1/citeobj_2.12-7.5.1.pom.sha1\n",
      "Downloading https://dl.bintray.com/neelsmith/maven/edu/holycross/shot/citeobj_2.12/7.5.1/citeobj_2.12-7.5.1.pom\n",
      "Downloaded https://repo1.maven.org/maven2/edu/holycross/shot/ohco2_2.12/10.20.3/ohco2_2.12-10.20.3.pom.sha1\n",
      "Downloading https://dl.bintray.com/neelsmith/maven/edu/holycross/shot/ohco2_2.12/10.20.3/ohco2_2.12-10.20.3.pom\n",
      "Downloaded https://dl.bintray.com/neelsmith/maven/edu/holycross/shot/citerelations_2.12/2.7.0/citerelations_2.12-2.7.0.pom\n",
      "Downloaded https://dl.bintray.com/neelsmith/maven/edu/holycross/shot/ohco2_2.12/10.20.3/ohco2_2.12-10.20.3.pom\n",
      "Downloaded https://dl.bintray.com/neelsmith/maven/edu/holycross/shot/cite/xcite_2.12/4.3.0/xcite_2.12-4.3.0.pom\n",
      "Downloaded https://dl.bintray.com/neelsmith/maven/edu/holycross/shot/cex_2.12/6.5.0/cex_2.12-6.5.0.pom\n",
      "Downloaded https://dl.bintray.com/neelsmith/maven/edu/holycross/shot/citeobj_2.12/7.5.1/citeobj_2.12-7.5.1.pom\n",
      "Downloading https://repo1.maven.org/maven2/edu/holycross/shot/seqcomp_2.12/2.2.1/seqcomp_2.12-2.2.1.pom\n",
      "Downloading https://repo1.maven.org/maven2/org/scala-lang/scala-library/2.12.11/scala-library-2.12.11.pom\n",
      "Downloading https://repo1.maven.org/maven2/org/scala-lang/modules/scala-collection-compat_2.12/2.1.6/scala-collection-compat_2.12-2.1.6.pom\n",
      "Downloaded https://repo1.maven.org/maven2/edu/holycross/shot/seqcomp_2.12/2.2.1/seqcomp_2.12-2.2.1.pom\n",
      "Downloading https://repo1.maven.org/maven2/edu/holycross/shot/seqcomp_2.12/2.2.1/seqcomp_2.12-2.2.1.pom.sha1\n",
      "Downloaded https://repo1.maven.org/maven2/org/scala-lang/modules/scala-collection-compat_2.12/2.1.6/scala-collection-compat_2.12-2.1.6.pom\n",
      "Downloaded https://repo1.maven.org/maven2/org/scala-lang/scala-library/2.12.11/scala-library-2.12.11.pom\n",
      "Downloaded https://repo1.maven.org/maven2/edu/holycross/shot/seqcomp_2.12/2.2.1/seqcomp_2.12-2.2.1.pom.sha1\n",
      "Downloading https://dl.bintray.com/neelsmith/maven/edu/holycross/shot/seqcomp_2.12/2.2.1/seqcomp_2.12-2.2.1.pom\n",
      "Downloaded https://dl.bintray.com/neelsmith/maven/edu/holycross/shot/seqcomp_2.12/2.2.1/seqcomp_2.12-2.2.1.pom\n",
      "Downloading https://dl.bintray.com/neelsmith/maven/edu/holycross/shot/seqcomp_2.12/2.2.1/seqcomp_2.12-2.2.1.jar\n",
      "Downloading https://repo1.maven.org/maven2/org/wvlet/airframe/airframe-log_2.12/20.5.2/airframe-log_2.12-20.5.2-sources.jar\n",
      "Downloading https://repo1.maven.org/maven2/org/wvlet/airframe/airframe-log_2.12/20.5.2/airframe-log_2.12-20.5.2.jar\n",
      "Downloading https://dl.bintray.com/neelsmith/maven/edu/holycross/shot/cite/xcite_2.12/4.3.0/xcite_2.12-4.3.0.jar\n",
      "Downloading https://repo1.maven.org/maven2/org/scala-lang/scala-library/2.12.11/scala-library-2.12.11.jar\n",
      "Downloading https://dl.bintray.com/neelsmith/maven/edu/holycross/shot/cex_2.12/6.5.0/cex_2.12-6.5.0.jar\n",
      "Downloaded https://repo1.maven.org/maven2/org/wvlet/airframe/airframe-log_2.12/20.5.2/airframe-log_2.12-20.5.2-sources.jar\n",
      "Downloading https://dl.bintray.com/neelsmith/maven/edu/holycross/shot/cite/xcite_2.12/4.3.0/xcite_2.12-4.3.0-sources.jar\n",
      "Downloaded https://repo1.maven.org/maven2/org/wvlet/airframe/airframe-log_2.12/20.5.2/airframe-log_2.12-20.5.2.jar\n",
      "Downloading https://repo1.maven.org/maven2/org/scala-lang/modules/scala-collection-compat_2.12/2.1.6/scala-collection-compat_2.12-2.1.6-sources.jar\n",
      "Downloaded https://repo1.maven.org/maven2/org/scala-lang/modules/scala-collection-compat_2.12/2.1.6/scala-collection-compat_2.12-2.1.6-sources.jar\n",
      "Downloading https://dl.bintray.com/neelsmith/maven/edu/holycross/shot/citerelations_2.12/2.7.0/citerelations_2.12-2.7.0-sources.jar\n",
      "Downloaded https://dl.bintray.com/neelsmith/maven/edu/holycross/shot/cite/xcite_2.12/4.3.0/xcite_2.12-4.3.0-sources.jar\n",
      "Downloading https://dl.bintray.com/neelsmith/maven/edu/holycross/shot/ohco2_2.12/10.20.3/ohco2_2.12-10.20.3-sources.jar\n",
      "Downloaded https://dl.bintray.com/neelsmith/maven/edu/holycross/shot/seqcomp_2.12/2.2.1/seqcomp_2.12-2.2.1.jar\n",
      "Downloading https://repo1.maven.org/maven2/org/scala-lang/modules/scala-collection-compat_2.12/2.1.6/scala-collection-compat_2.12-2.1.6.jar\n",
      "Downloaded https://dl.bintray.com/neelsmith/maven/edu/holycross/shot/cex_2.12/6.5.0/cex_2.12-6.5.0.jar\n",
      "Downloading https://dl.bintray.com/neelsmith/maven/edu/holycross/shot/citerelations_2.12/2.7.0/citerelations_2.12-2.7.0.jar\n",
      "Downloaded https://dl.bintray.com/neelsmith/maven/edu/holycross/shot/ohco2_2.12/10.20.3/ohco2_2.12-10.20.3-sources.jar\n",
      "Downloading https://dl.bintray.com/neelsmith/maven/edu/holycross/shot/scm_2.12/7.4.0/scm_2.12-7.4.0.jar\n",
      "Downloaded https://repo1.maven.org/maven2/org/scala-lang/modules/scala-collection-compat_2.12/2.1.6/scala-collection-compat_2.12-2.1.6.jar\n",
      "Downloading https://dl.bintray.com/neelsmith/maven/edu/holycross/shot/seqcomp_2.12/2.2.1/seqcomp_2.12-2.2.1-sources.jar\n",
      "Downloaded https://dl.bintray.com/neelsmith/maven/edu/holycross/shot/cite/xcite_2.12/4.3.0/xcite_2.12-4.3.0.jar\n",
      "Downloading https://dl.bintray.com/neelsmith/maven/edu/holycross/shot/scm_2.12/7.4.0/scm_2.12-7.4.0-sources.jar\n",
      "Downloaded https://dl.bintray.com/neelsmith/maven/edu/holycross/shot/scm_2.12/7.4.0/scm_2.12-7.4.0-sources.jar\n",
      "Downloading https://dl.bintray.com/neelsmith/maven/edu/holycross/shot/citeobj_2.12/7.5.1/citeobj_2.12-7.5.1-sources.jar\n",
      "Downloaded https://repo1.maven.org/maven2/org/scala-lang/scala-library/2.12.11/scala-library-2.12.11.jar\n",
      "Downloading https://repo1.maven.org/maven2/org/scala-lang/scala-library/2.12.11/scala-library-2.12.11-sources.jar\n",
      "Downloaded https://dl.bintray.com/neelsmith/maven/edu/holycross/shot/citerelations_2.12/2.7.0/citerelations_2.12-2.7.0-sources.jar\n",
      "Downloading https://dl.bintray.com/neelsmith/maven/edu/holycross/shot/cex_2.12/6.5.0/cex_2.12-6.5.0-sources.jar\n",
      "Downloaded https://repo1.maven.org/maven2/org/scala-lang/scala-library/2.12.11/scala-library-2.12.11-sources.jar\n",
      "Downloading https://dl.bintray.com/neelsmith/maven/edu/holycross/shot/ohco2_2.12/10.20.3/ohco2_2.12-10.20.3.jar\n",
      "Downloaded https://dl.bintray.com/neelsmith/maven/edu/holycross/shot/seqcomp_2.12/2.2.1/seqcomp_2.12-2.2.1-sources.jar\n",
      "Downloading https://dl.bintray.com/neelsmith/maven/edu/holycross/shot/citeobj_2.12/7.5.1/citeobj_2.12-7.5.1.jar\n",
      "Downloaded https://dl.bintray.com/neelsmith/maven/edu/holycross/shot/citerelations_2.12/2.7.0/citerelations_2.12-2.7.0.jar\n",
      "Downloaded https://dl.bintray.com/neelsmith/maven/edu/holycross/shot/citeobj_2.12/7.5.1/citeobj_2.12-7.5.1-sources.jar\n",
      "Downloaded https://dl.bintray.com/neelsmith/maven/edu/holycross/shot/scm_2.12/7.4.0/scm_2.12-7.4.0.jar\n",
      "Downloaded https://dl.bintray.com/neelsmith/maven/edu/holycross/shot/cex_2.12/6.5.0/cex_2.12-6.5.0-sources.jar\n",
      "Downloaded https://dl.bintray.com/neelsmith/maven/edu/holycross/shot/citeobj_2.12/7.5.1/citeobj_2.12-7.5.1.jar\n",
      "Downloaded https://dl.bintray.com/neelsmith/maven/edu/holycross/shot/ohco2_2.12/10.20.3/ohco2_2.12-10.20.3.jar\n",
      "Downloading https://repo1.maven.org/maven2/edu/holycross/shot/ohco2_2.12/10.20.4/ohco2_2.12-10.20.4.pom\n",
      "Downloaded https://repo1.maven.org/maven2/edu/holycross/shot/ohco2_2.12/10.20.4/ohco2_2.12-10.20.4.pom\n",
      "Downloading https://repo1.maven.org/maven2/edu/holycross/shot/ohco2_2.12/10.20.4/ohco2_2.12-10.20.4.pom.sha1\n",
      "Downloaded https://repo1.maven.org/maven2/edu/holycross/shot/ohco2_2.12/10.20.4/ohco2_2.12-10.20.4.pom.sha1\n",
      "Downloading https://dl.bintray.com/neelsmith/maven/edu/holycross/shot/ohco2_2.12/10.20.4/ohco2_2.12-10.20.4.pom\n",
      "Downloaded https://dl.bintray.com/neelsmith/maven/edu/holycross/shot/ohco2_2.12/10.20.4/ohco2_2.12-10.20.4.pom\n",
      "Downloading https://dl.bintray.com/neelsmith/maven/edu/holycross/shot/ohco2_2.12/10.20.4/ohco2_2.12-10.20.4.jar\n",
      "Downloading https://dl.bintray.com/neelsmith/maven/edu/holycross/shot/ohco2_2.12/10.20.4/ohco2_2.12-10.20.4-sources.jar\n",
      "Downloaded https://dl.bintray.com/neelsmith/maven/edu/holycross/shot/ohco2_2.12/10.20.4/ohco2_2.12-10.20.4-sources.jar\n",
      "Downloaded https://dl.bintray.com/neelsmith/maven/edu/holycross/shot/ohco2_2.12/10.20.4/ohco2_2.12-10.20.4.jar\n",
      "Downloading https://repo1.maven.org/maven2/edu/holycross/shot/dse_2.12/7.1.3/dse_2.12-7.1.3.pom\n",
      "Downloaded https://repo1.maven.org/maven2/edu/holycross/shot/dse_2.12/7.1.3/dse_2.12-7.1.3.pom\n",
      "Downloading https://repo1.maven.org/maven2/edu/holycross/shot/dse_2.12/7.1.3/dse_2.12-7.1.3.pom.sha1\n",
      "Downloaded https://repo1.maven.org/maven2/edu/holycross/shot/dse_2.12/7.1.3/dse_2.12-7.1.3.pom.sha1\n",
      "Downloading https://dl.bintray.com/neelsmith/maven/edu/holycross/shot/dse_2.12/7.1.3/dse_2.12-7.1.3.pom\n",
      "Downloaded https://dl.bintray.com/neelsmith/maven/edu/holycross/shot/dse_2.12/7.1.3/dse_2.12-7.1.3.pom\n",
      "Downloading https://repo1.maven.org/maven2/edu/holycross/shot/scm_2.12/7.3.0/scm_2.12-7.3.0.pom\n",
      "Downloading https://repo1.maven.org/maven2/edu/holycross/shot/citeobj_2.12/7.5.0/citeobj_2.12-7.5.0.pom\n",
      "Downloading https://repo1.maven.org/maven2/edu/holycross/shot/ohco2_2.12/10.19.0/ohco2_2.12-10.19.0.pom\n",
      "Downloading https://repo1.maven.org/maven2/edu/holycross/shot/citebinaryimage_2.12/3.2.0/citebinaryimage_2.12-3.2.0.pom\n",
      "Downloaded https://repo1.maven.org/maven2/edu/holycross/shot/citebinaryimage_2.12/3.2.0/citebinaryimage_2.12-3.2.0.pom\n",
      "Downloading https://repo1.maven.org/maven2/edu/holycross/shot/citebinaryimage_2.12/3.2.0/citebinaryimage_2.12-3.2.0.pom.sha1\n",
      "Downloaded https://repo1.maven.org/maven2/edu/holycross/shot/citebinaryimage_2.12/3.2.0/citebinaryimage_2.12-3.2.0.pom.sha1\n",
      "Downloaded https://repo1.maven.org/maven2/edu/holycross/shot/ohco2_2.12/10.19.0/ohco2_2.12-10.19.0.pom\n",
      "Downloading https://dl.bintray.com/neelsmith/maven/edu/holycross/shot/citebinaryimage_2.12/3.2.0/citebinaryimage_2.12-3.2.0.pom\n",
      "Downloading https://repo1.maven.org/maven2/edu/holycross/shot/ohco2_2.12/10.19.0/ohco2_2.12-10.19.0.pom.sha1\n",
      "Downloaded https://repo1.maven.org/maven2/edu/holycross/shot/scm_2.12/7.3.0/scm_2.12-7.3.0.pom\n",
      "Downloading https://repo1.maven.org/maven2/edu/holycross/shot/scm_2.12/7.3.0/scm_2.12-7.3.0.pom.sha1\n",
      "Downloaded https://repo1.maven.org/maven2/edu/holycross/shot/citeobj_2.12/7.5.0/citeobj_2.12-7.5.0.pom\n",
      "Downloading https://repo1.maven.org/maven2/edu/holycross/shot/citeobj_2.12/7.5.0/citeobj_2.12-7.5.0.pom.sha1\n",
      "Downloaded https://repo1.maven.org/maven2/edu/holycross/shot/citeobj_2.12/7.5.0/citeobj_2.12-7.5.0.pom.sha1\n",
      "Downloaded https://repo1.maven.org/maven2/edu/holycross/shot/scm_2.12/7.3.0/scm_2.12-7.3.0.pom.sha1\n",
      "Downloaded https://repo1.maven.org/maven2/edu/holycross/shot/ohco2_2.12/10.19.0/ohco2_2.12-10.19.0.pom.sha1\n",
      "Downloading https://dl.bintray.com/neelsmith/maven/edu/holycross/shot/citeobj_2.12/7.5.0/citeobj_2.12-7.5.0.pom\n",
      "Downloading https://dl.bintray.com/neelsmith/maven/edu/holycross/shot/ohco2_2.12/10.19.0/ohco2_2.12-10.19.0.pom\n",
      "Downloading https://dl.bintray.com/neelsmith/maven/edu/holycross/shot/scm_2.12/7.3.0/scm_2.12-7.3.0.pom\n",
      "Downloaded https://dl.bintray.com/neelsmith/maven/edu/holycross/shot/ohco2_2.12/10.19.0/ohco2_2.12-10.19.0.pom\n",
      "Downloaded https://dl.bintray.com/neelsmith/maven/edu/holycross/shot/citebinaryimage_2.12/3.2.0/citebinaryimage_2.12-3.2.0.pom\n",
      "Downloaded https://dl.bintray.com/neelsmith/maven/edu/holycross/shot/citeobj_2.12/7.5.0/citeobj_2.12-7.5.0.pom\n",
      "Downloaded https://dl.bintray.com/neelsmith/maven/edu/holycross/shot/scm_2.12/7.3.0/scm_2.12-7.3.0.pom\n",
      "Downloading https://dl.bintray.com/neelsmith/maven/edu/holycross/shot/dse_2.12/7.1.3/dse_2.12-7.1.3.jar\n",
      "Downloading https://dl.bintray.com/neelsmith/maven/edu/holycross/shot/ohco2_2.12/10.19.0/ohco2_2.12-10.19.0.jar\n",
      "Downloading https://dl.bintray.com/neelsmith/maven/edu/holycross/shot/ohco2_2.12/10.19.0/ohco2_2.12-10.19.0-sources.jar\n",
      "Downloading https://dl.bintray.com/neelsmith/maven/edu/holycross/shot/scm_2.12/7.3.0/scm_2.12-7.3.0.jar\n",
      "Downloading https://dl.bintray.com/neelsmith/maven/edu/holycross/shot/citeobj_2.12/7.5.0/citeobj_2.12-7.5.0-sources.jar\n",
      "Downloaded https://dl.bintray.com/neelsmith/maven/edu/holycross/shot/dse_2.12/7.1.3/dse_2.12-7.1.3.jar\n",
      "Downloading https://dl.bintray.com/neelsmith/maven/edu/holycross/shot/citebinaryimage_2.12/3.2.0/citebinaryimage_2.12-3.2.0-sources.jar\n",
      "Downloading https://dl.bintray.com/neelsmith/maven/edu/holycross/shot/scm_2.12/7.3.0/scm_2.12-7.3.0-sources.jar\n",
      "Downloaded https://dl.bintray.com/neelsmith/maven/edu/holycross/shot/ohco2_2.12/10.19.0/ohco2_2.12-10.19.0-sources.jar\n",
      "Downloading https://dl.bintray.com/neelsmith/maven/edu/holycross/shot/citeobj_2.12/7.5.0/citeobj_2.12-7.5.0.jar\n",
      "Downloaded https://dl.bintray.com/neelsmith/maven/edu/holycross/shot/scm_2.12/7.3.0/scm_2.12-7.3.0.jar\n",
      "Downloading https://dl.bintray.com/neelsmith/maven/edu/holycross/shot/dse_2.12/7.1.3/dse_2.12-7.1.3-sources.jar\n",
      "Downloaded https://dl.bintray.com/neelsmith/maven/edu/holycross/shot/citeobj_2.12/7.5.0/citeobj_2.12-7.5.0-sources.jar\n",
      "Downloading https://dl.bintray.com/neelsmith/maven/edu/holycross/shot/citebinaryimage_2.12/3.2.0/citebinaryimage_2.12-3.2.0.jar\n",
      "Downloaded https://dl.bintray.com/neelsmith/maven/edu/holycross/shot/ohco2_2.12/10.19.0/ohco2_2.12-10.19.0.jar\n",
      "Downloaded https://dl.bintray.com/neelsmith/maven/edu/holycross/shot/citebinaryimage_2.12/3.2.0/citebinaryimage_2.12-3.2.0-sources.jar\n",
      "Downloaded https://dl.bintray.com/neelsmith/maven/edu/holycross/shot/citebinaryimage_2.12/3.2.0/citebinaryimage_2.12-3.2.0.jar\n",
      "Downloaded https://dl.bintray.com/neelsmith/maven/edu/holycross/shot/scm_2.12/7.3.0/scm_2.12-7.3.0-sources.jar\n",
      "Downloaded https://dl.bintray.com/neelsmith/maven/edu/holycross/shot/dse_2.12/7.1.3/dse_2.12-7.1.3-sources.jar\n",
      "Downloaded https://dl.bintray.com/neelsmith/maven/edu/holycross/shot/citeobj_2.12/7.5.0/citeobj_2.12-7.5.0.jar\n",
      "Downloading https://repo1.maven.org/maven2/edu/holycross/shot/greek_2.12/9.0.0/greek_2.12-9.0.0.pom\n",
      "Downloaded https://repo1.maven.org/maven2/edu/holycross/shot/greek_2.12/9.0.0/greek_2.12-9.0.0.pom\n",
      "Downloading https://repo1.maven.org/maven2/edu/holycross/shot/greek_2.12/9.0.0/greek_2.12-9.0.0.pom.sha1\n",
      "Downloaded https://repo1.maven.org/maven2/edu/holycross/shot/greek_2.12/9.0.0/greek_2.12-9.0.0.pom.sha1\n",
      "Downloading https://dl.bintray.com/neelsmith/maven/edu/holycross/shot/greek_2.12/9.0.0/greek_2.12-9.0.0.pom\n",
      "Downloaded https://dl.bintray.com/neelsmith/maven/edu/holycross/shot/greek_2.12/9.0.0/greek_2.12-9.0.0.pom\n",
      "Downloading https://repo1.maven.org/maven2/edu/holycross/shot/citevalidator_2.12/1.1.2/citevalidator_2.12-1.1.2.pom\n",
      "Downloading https://repo1.maven.org/maven2/edu/holycross/shot/mid/orthography_2.12/2.0.0/orthography_2.12-2.0.0.pom\n",
      "Downloading https://repo1.maven.org/maven2/edu/holycross/shot/ohco2_2.12/10.20.0/ohco2_2.12-10.20.0.pom\n",
      "Downloaded https://repo1.maven.org/maven2/edu/holycross/shot/citevalidator_2.12/1.1.2/citevalidator_2.12-1.1.2.pom\n",
      "Downloaded https://repo1.maven.org/maven2/edu/holycross/shot/mid/orthography_2.12/2.0.0/orthography_2.12-2.0.0.pom\n",
      "Downloading https://repo1.maven.org/maven2/edu/holycross/shot/citevalidator_2.12/1.1.2/citevalidator_2.12-1.1.2.pom.sha1\n",
      "Downloading https://repo1.maven.org/maven2/edu/holycross/shot/mid/orthography_2.12/2.0.0/orthography_2.12-2.0.0.pom.sha1\n",
      "Downloaded https://repo1.maven.org/maven2/edu/holycross/shot/ohco2_2.12/10.20.0/ohco2_2.12-10.20.0.pom\n",
      "Downloading https://repo1.maven.org/maven2/edu/holycross/shot/ohco2_2.12/10.20.0/ohco2_2.12-10.20.0.pom.sha1\n",
      "Downloaded https://repo1.maven.org/maven2/edu/holycross/shot/mid/orthography_2.12/2.0.0/orthography_2.12-2.0.0.pom.sha1\n",
      "Downloaded https://repo1.maven.org/maven2/edu/holycross/shot/citevalidator_2.12/1.1.2/citevalidator_2.12-1.1.2.pom.sha1\n",
      "Downloading https://dl.bintray.com/neelsmith/maven/edu/holycross/shot/mid/orthography_2.12/2.0.0/orthography_2.12-2.0.0.pom\n",
      "Downloading https://dl.bintray.com/neelsmith/maven/edu/holycross/shot/citevalidator_2.12/1.1.2/citevalidator_2.12-1.1.2.pom\n",
      "Downloaded https://repo1.maven.org/maven2/edu/holycross/shot/ohco2_2.12/10.20.0/ohco2_2.12-10.20.0.pom.sha1\n",
      "Downloading https://dl.bintray.com/neelsmith/maven/edu/holycross/shot/ohco2_2.12/10.20.0/ohco2_2.12-10.20.0.pom\n",
      "Downloaded https://dl.bintray.com/neelsmith/maven/edu/holycross/shot/mid/orthography_2.12/2.0.0/orthography_2.12-2.0.0.pom\n",
      "Downloaded https://dl.bintray.com/neelsmith/maven/edu/holycross/shot/citevalidator_2.12/1.1.2/citevalidator_2.12-1.1.2.pom\n",
      "Downloaded https://dl.bintray.com/neelsmith/maven/edu/holycross/shot/ohco2_2.12/10.20.0/ohco2_2.12-10.20.0.pom\n",
      "Downloading https://repo1.maven.org/maven2/edu/holycross/shot/dse_2.12/7.1.1/dse_2.12-7.1.1.pom\n",
      "Downloading https://repo1.maven.org/maven2/edu/holycross/shot/xmlutils_2.12/2.0.0/xmlutils_2.12-2.0.0.pom\n",
      "Downloading https://repo1.maven.org/maven2/com/github/pathikrit/better-files_2.12/3.5.0/better-files_2.12-3.5.0.pom\n",
      "Downloaded https://repo1.maven.org/maven2/edu/holycross/shot/xmlutils_2.12/2.0.0/xmlutils_2.12-2.0.0.pom\n",
      "Downloading https://repo1.maven.org/maven2/edu/holycross/shot/xmlutils_2.12/2.0.0/xmlutils_2.12-2.0.0.pom.sha1\n",
      "Downloaded https://repo1.maven.org/maven2/com/github/pathikrit/better-files_2.12/3.5.0/better-files_2.12-3.5.0.pom\n",
      "Downloaded https://repo1.maven.org/maven2/edu/holycross/shot/dse_2.12/7.1.1/dse_2.12-7.1.1.pom\n",
      "Downloading https://repo1.maven.org/maven2/edu/holycross/shot/dse_2.12/7.1.1/dse_2.12-7.1.1.pom.sha1\n",
      "Downloaded https://repo1.maven.org/maven2/edu/holycross/shot/dse_2.12/7.1.1/dse_2.12-7.1.1.pom.sha1\n",
      "Downloaded https://repo1.maven.org/maven2/edu/holycross/shot/xmlutils_2.12/2.0.0/xmlutils_2.12-2.0.0.pom.sha1\n",
      "Downloading https://dl.bintray.com/neelsmith/maven/edu/holycross/shot/xmlutils_2.12/2.0.0/xmlutils_2.12-2.0.0.pom\n",
      "Downloading https://dl.bintray.com/neelsmith/maven/edu/holycross/shot/dse_2.12/7.1.1/dse_2.12-7.1.1.pom\n",
      "Downloaded https://dl.bintray.com/neelsmith/maven/edu/holycross/shot/dse_2.12/7.1.1/dse_2.12-7.1.1.pom\n",
      "Downloaded https://dl.bintray.com/neelsmith/maven/edu/holycross/shot/xmlutils_2.12/2.0.0/xmlutils_2.12-2.0.0.pom\n",
      "Downloading https://dl.bintray.com/neelsmith/maven/edu/holycross/shot/xmlutils_2.12/2.0.0/xmlutils_2.12-2.0.0.jar\n",
      "Downloading https://repo1.maven.org/maven2/com/github/pathikrit/better-files_2.12/3.5.0/better-files_2.12-3.5.0.jar\n",
      "Downloading https://dl.bintray.com/neelsmith/maven/edu/holycross/shot/dse_2.12/7.1.1/dse_2.12-7.1.1-sources.jar\n",
      "Downloading https://dl.bintray.com/neelsmith/maven/edu/holycross/shot/dse_2.12/7.1.1/dse_2.12-7.1.1.jar\n",
      "Downloading https://dl.bintray.com/neelsmith/maven/edu/holycross/shot/ohco2_2.12/10.20.0/ohco2_2.12-10.20.0-sources.jar\n",
      "Downloaded https://dl.bintray.com/neelsmith/maven/edu/holycross/shot/dse_2.12/7.1.1/dse_2.12-7.1.1-sources.jar\n",
      "Downloading https://repo1.maven.org/maven2/com/github/pathikrit/better-files_2.12/3.5.0/better-files_2.12-3.5.0-sources.jar\n",
      "Downloading https://dl.bintray.com/neelsmith/maven/edu/holycross/shot/mid/orthography_2.12/2.0.0/orthography_2.12-2.0.0-sources.jar\n",
      "Downloaded https://repo1.maven.org/maven2/com/github/pathikrit/better-files_2.12/3.5.0/better-files_2.12-3.5.0-sources.jar\n",
      "Downloading https://dl.bintray.com/neelsmith/maven/edu/holycross/shot/ohco2_2.12/10.20.0/ohco2_2.12-10.20.0.jar\n",
      "Downloaded https://dl.bintray.com/neelsmith/maven/edu/holycross/shot/dse_2.12/7.1.1/dse_2.12-7.1.1.jar\n",
      "Downloading https://dl.bintray.com/neelsmith/maven/edu/holycross/shot/citevalidator_2.12/1.1.2/citevalidator_2.12-1.1.2-sources.jar\n",
      "Downloaded https://repo1.maven.org/maven2/com/github/pathikrit/better-files_2.12/3.5.0/better-files_2.12-3.5.0.jar\n",
      "Downloading https://dl.bintray.com/neelsmith/maven/edu/holycross/shot/greek_2.12/9.0.0/greek_2.12-9.0.0-sources.jar\n",
      "Downloaded https://dl.bintray.com/neelsmith/maven/edu/holycross/shot/ohco2_2.12/10.20.0/ohco2_2.12-10.20.0-sources.jar\n",
      "Downloading https://dl.bintray.com/neelsmith/maven/edu/holycross/shot/mid/orthography_2.12/2.0.0/orthography_2.12-2.0.0.jar\n",
      "Downloaded https://dl.bintray.com/neelsmith/maven/edu/holycross/shot/xmlutils_2.12/2.0.0/xmlutils_2.12-2.0.0.jar\n",
      "Downloading https://dl.bintray.com/neelsmith/maven/edu/holycross/shot/xmlutils_2.12/2.0.0/xmlutils_2.12-2.0.0-sources.jar\n",
      "Downloaded https://dl.bintray.com/neelsmith/maven/edu/holycross/shot/ohco2_2.12/10.20.0/ohco2_2.12-10.20.0.jar\n",
      "Downloading https://dl.bintray.com/neelsmith/maven/edu/holycross/shot/greek_2.12/9.0.0/greek_2.12-9.0.0.jar\n",
      "Downloaded https://dl.bintray.com/neelsmith/maven/edu/holycross/shot/citevalidator_2.12/1.1.2/citevalidator_2.12-1.1.2-sources.jar\n",
      "Downloading https://dl.bintray.com/neelsmith/maven/edu/holycross/shot/citevalidator_2.12/1.1.2/citevalidator_2.12-1.1.2.jar\n",
      "Downloaded https://dl.bintray.com/neelsmith/maven/edu/holycross/shot/greek_2.12/9.0.0/greek_2.12-9.0.0.jar\n",
      "Downloaded https://dl.bintray.com/neelsmith/maven/edu/holycross/shot/mid/orthography_2.12/2.0.0/orthography_2.12-2.0.0-sources.jar\n",
      "Downloaded https://dl.bintray.com/neelsmith/maven/edu/holycross/shot/citevalidator_2.12/1.1.2/citevalidator_2.12-1.1.2.jar\n",
      "Downloaded https://dl.bintray.com/neelsmith/maven/edu/holycross/shot/mid/orthography_2.12/2.0.0/orthography_2.12-2.0.0.jar\n",
      "Downloaded https://dl.bintray.com/neelsmith/maven/edu/holycross/shot/xmlutils_2.12/2.0.0/xmlutils_2.12-2.0.0-sources.jar\n",
      "Downloaded https://dl.bintray.com/neelsmith/maven/edu/holycross/shot/greek_2.12/9.0.0/greek_2.12-9.0.0-sources.jar\n"
     ]
    },
    {
     "data": {
      "text/plain": [
       "\u001b[32mimport \u001b[39m\u001b[36m$ivy.$                              \n",
       "\u001b[39m\n",
       "\u001b[32mimport \u001b[39m\u001b[36m$ivy.$                                  \n",
       "\u001b[39m\n",
       "\u001b[32mimport \u001b[39m\u001b[36m$ivy.$                                     \n",
       "\u001b[39m\n",
       "\u001b[32mimport \u001b[39m\u001b[36m$ivy.$                              \n",
       "\u001b[39m\n",
       "\u001b[32mimport \u001b[39m\u001b[36m$ivy.$                                \u001b[39m"
      ]
     },
     "execution_count": 4,
     "metadata": {},
     "output_type": "execute_result"
    }
   ],
   "source": [
    "// 2. Make libraries available with `$ivy` imports:\n",
    "import $ivy.`edu.holycross.shot::scm:7.4.0`\n",
    "import $ivy.`edu.holycross.shot::ohco2:10.20.4`\n",
    "import $ivy.`edu.holycross.shot.cite::xcite:4.3.0`\n",
    "import $ivy.`edu.holycross.shot::dse:7.1.3`\n",
    "import $ivy.`edu.holycross.shot::greek:9.0.0`"
   ]
  },
  {
   "cell_type": "markdown",
   "metadata": {},
   "source": [
    "## Load HMT data\n",
    "\n",
    "Data releases of the Homer Multitext project archive are published as CITE libraries, and committed to the `hmt-archive` github repository in CEX format.\n",
    "\n"
   ]
  },
  {
   "cell_type": "code",
   "execution_count": null,
   "metadata": {},
   "outputs": [
    {
     "name": "stderr",
     "output_type": "stream",
     "text": [
      "\u001b[34m2020-09-12 11:45:17.516Z\u001b[0m  \u001b[36minfo\u001b[0m [\u001b[37mCiteLibrary\u001b[0m] \u001b[36mBuilding text repo from cex ...\u001b[0m  \u001b[34m- (CiteLibrary.scala:160)\u001b[0m\n",
      "\u001b[34m2020-09-12 11:45:28.734Z\u001b[0m  \u001b[36minfo\u001b[0m [\u001b[37mCiteLibrary\u001b[0m] \u001b[36mBuilding collection repo from cex ...\u001b[0m  \u001b[34m- (CiteLibrary.scala:163)\u001b[0m\n"
     ]
    }
   ],
   "source": [
    "import edu.holycross.shot.scm._\n",
    "\n",
    "val url = s\"https://raw.githubusercontent.com/homermultitext/hmt-archive/master/releases-cex/hmt-${releaseId}.cex\"\n",
    "val lib = CiteLibrarySource.fromUrl(url)"
   ]
  },
  {
   "cell_type": "code",
   "execution_count": 5,
   "metadata": {
    "collapsed": true
   },
   "outputs": [
    {
     "data": {
      "text/plain": [
       "\u001b[32mimport \u001b[39m\u001b[36medu.holycross.shot.ohco2._\n",
       "\u001b[39m\n",
       "\u001b[32mimport \u001b[39m\u001b[36medu.holycross.shot.dse._\n",
       "\u001b[39m\n",
       "\u001b[32mimport \u001b[39m\u001b[36medu.holycross.shot.greek._\n",
       "\n",
       "\u001b[39m\n",
       "\u001b[36mcorpus\u001b[39m: \u001b[32mCorpus\u001b[39m = \u001b[33mCorpus\u001b[39m(\n",
       "  \u001b[33mVector\u001b[39m(\n",
       "    \u001b[33mCitableNode\u001b[39m(\n",
       "      \u001b[33mCtsUrn\u001b[39m(\u001b[32m\"urn:cts:greekLit:tlg0012.tlg001.due_ebbott:10.1\"\u001b[39m),\n",
       "      \u001b[32m\"Alongside the ships the other best men of the Panachaeans\"\u001b[39m\n",
       "    ),\n",
       "    \u001b[33mCitableNode\u001b[39m(\n",
       "      \u001b[33mCtsUrn\u001b[39m(\u001b[32m\"urn:cts:greekLit:tlg0012.tlg001.due_ebbott:10.2\"\u001b[39m),\n",
       "      \u001b[32m\"slept all night long, subdued by gentle sleep,\"\u001b[39m\n",
       "    ),\n",
       "    \u001b[33mCitableNode\u001b[39m(\n",
       "      \u001b[33mCtsUrn\u001b[39m(\u001b[32m\"urn:cts:greekLit:tlg0012.tlg001.due_ebbott:10.3\"\u001b[39m),\n",
       "      \u001b[32m\"but not the son of Atreus, Agamemnon, the shepherd of the warriors\\u2014\"\u001b[39m\n",
       "    ),\n",
       "    \u001b[33mCitableNode\u001b[39m(\n",
       "      \u001b[33mCtsUrn\u001b[39m(\u001b[32m\"urn:cts:greekLit:tlg0012.tlg001.due_ebbott:10.4\"\u001b[39m),\n",
       "      \u001b[32m\"sweet sleep did not hold him, as he pondered many things in his mind.\"\u001b[39m\n",
       "    ),\n",
       "    \u001b[33mCitableNode\u001b[39m(\n",
       "      \u001b[33mCtsUrn\u001b[39m(\u001b[32m\"urn:cts:greekLit:tlg0012.tlg001.due_ebbott:10.5\"\u001b[39m),\n",
       "      \u001b[32m\"As when the husband of Hera with her beautiful hair hurls lightning, \"\u001b[39m\n",
       "    ),\n",
       "    \u001b[33mCitableNode\u001b[39m(\n",
       "      \u001b[33mCtsUrn\u001b[39m(\u001b[32m\"urn:cts:greekLit:tlg0012.tlg001.due_ebbott:10.6\"\u001b[39m),\n",
       "      \u001b[32m\"creating an indescribable amount of rain or hail\"\u001b[39m\n",
       "    ),\n",
       "    \u001b[33mCitableNode\u001b[39m(\n",
       "      \u001b[33mCtsUrn\u001b[39m(\u001b[32m\"urn:cts:greekLit:tlg0012.tlg001.due_ebbott:10.7\"\u001b[39m),\n",
       "      \u001b[32m\"or falling snow, when snow sprinkles the fields,\"\u001b[39m\n",
       "    ),\n",
       "    \u001b[33mCitableNode\u001b[39m(\n",
       "      \u001b[33mCtsUrn\u001b[39m(\u001b[32m\"urn:cts:greekLit:tlg0012.tlg001.due_ebbott:10.8\"\u001b[39m),\n",
       "      \u001b[32m\"or the great jaws of crowded battle,\"\u001b[39m\n",
       "    ),\n",
       "    \u001b[33mCitableNode\u001b[39m(\n",
       "      \u001b[33mCtsUrn\u001b[39m(\u001b[32m\"urn:cts:greekLit:tlg0012.tlg001.due_ebbott:10.9\"\u001b[39m),\n",
       "      \u001b[32m\"so did the groans in the breast of Agamemnon come thick and fast \"\u001b[39m\n",
       "    ),\n",
       "    \u001b[33mCitableNode\u001b[39m(\n",
       "...\n",
       "\u001b[36mdsev\u001b[39m: \u001b[32mDseVector\u001b[39m = \u001b[33mDseVector\u001b[39m(\n",
       "  \u001b[33mVector\u001b[39m(\n",
       "    \u001b[33mDsePassage\u001b[39m(\n",
       "      \u001b[33mCite2Urn\u001b[39m(\u001b[32m\"urn:cite2:hmt:va_dse.v1:il2168\"\u001b[39m),\n",
       "      \u001b[32m\"DSE record for Iliad 4.217\"\u001b[39m,\n",
       "      \u001b[33mCtsUrn\u001b[39m(\u001b[32m\"urn:cts:greekLit:tlg0012.tlg001.msA:4.217\"\u001b[39m),\n",
       "      \u001b[33mCite2Urn\u001b[39m(\n",
       "        \u001b[32m\"urn:cite2:hmt:vaimg.2017a:VA055VN_0557@0.4865,0.3644,0.3954,0.0391\"\u001b[39m\n",
       "      ),\n",
       "      \u001b[33mCite2Urn\u001b[39m(\u001b[32m\"urn:cite2:hmt:msA.v1:55v\"\u001b[39m)\n",
       "    ),\n",
       "    \u001b[33mDsePassage\u001b[39m(\n",
       "      \u001b[33mCite2Urn\u001b[39m(\u001b[32m\"urn:cite2:hmt:va_dse.v1:il11826\"\u001b[39m),\n",
       "      \u001b[32m\"DSE record for Iliad 18.529\"\u001b[39m,\n",
       "      \u001b[33mCtsUrn\u001b[39m(\u001b[32m\"urn:cts:greekLit:tlg0012.tlg001.msA:18.529\"\u001b[39m),\n",
       "      \u001b[33mCite2Urn\u001b[39m(\n",
       "        \u001b[32m\"urn:cite2:hmt:vaimg.2017a:VA249RN_0420@0.19,0.6589,0.427,0.0331\"\u001b[39m\n",
       "      ),\n",
       "      \u001b[33mCite2Urn\u001b[39m(\u001b[32m\"urn:cite2:hmt:msA.v1:249r\"\u001b[39m)\n",
       "    ),\n",
       "    \u001b[33mDsePassage\u001b[39m(\n",
       "      \u001b[33mCite2Urn\u001b[39m(\u001b[32m\"urn:cite2:hmt:va_dse.v1:il6005\"\u001b[39m),\n",
       "      \u001b[32m\"DSE record for Iliad 10.337\"\u001b[39m,\n",
       "      \u001b[33mCtsUrn\u001b[39m(\u001b[32m\"urn:cts:greekLit:tlg0012.tlg001.msA:10.337\"\u001b[39m),\n",
       "      \u001b[33mCite2Urn\u001b[39m(\n",
       "        \u001b[32m\"urn:cite2:hmt:vaimg.2017a:VA132VN_0635@0.485,0.4313,0.388,0.0278\"\u001b[39m\n",
       "      ),\n",
       "      \u001b[33mCite2Urn\u001b[39m(\u001b[32m\"urn:cite2:hmt:msA.v1:132v\"\u001b[39m)\n",
       "    ),\n",
       "    \u001b[33mDsePassage\u001b[39m(\n",
       "      \u001b[33mCite2Urn\u001b[39m(\u001b[32m\"urn:cite2:hmt:va_dse.v1:il16223\"\u001b[39m),\n",
       "      \u001b[32m\"DSE record for Iliad 16.32\"\u001b[39m,\n",
       "      \u001b[33mCtsUrn\u001b[39m(\u001b[32m\"urn:cts:greekLit:tlg0012.tlg001.msA:16.32\"\u001b[39m),\n",
       "      \u001b[33mCite2Urn\u001b[39m(\n",
       "        \u001b[32m\"urn:cite2:hmt:vaimg.2017a:VA206VN_0708@0.507,0.3441,0.406,0.0263\"\u001b[39m\n",
       "      ),\n",
       "      \u001b[33mCite2Urn\u001b[39m(\u001b[32m\"urn:cite2:hmt:msA.v1:206v\"\u001b[39m)\n",
       "    ),\n",
       "    \u001b[33mDsePassage\u001b[39m(\n",
       "...\n",
       "\u001b[36mscholia\u001b[39m: \u001b[32mVector\u001b[39m[\u001b[32mCitableNode\u001b[39m] = \u001b[33mVector\u001b[39m(\n",
       "  \u001b[33mCitableNode\u001b[39m(\n",
       "    \u001b[33mCtsUrn\u001b[39m(\u001b[32m\"urn:cts:greekLit:tlg5026.msA.hmt:1.1.lemma\"\u001b[39m),\n",
       "    \u001b[32m\"\\u03bc\\u1fc6\\u03bd\\u03b9\\u03bd \\u1f04\\u03b5\\u03b9\\u03b4\\u03b5\"\u001b[39m\n",
       "  ),\n",
       "  \u001b[33mCitableNode\u001b[39m(\n",
       "    \u001b[33mCtsUrn\u001b[39m(\u001b[32m\"urn:cts:greekLit:tlg5026.msA.hmt:1.1.comment\"\u001b[39m),\n",
       "    \u001b[32m\"\\u03b6\\u03b7\\u03c4\\u03bf\\u1fe6\\u03c3\\u03b9 \\u03b4\\u03b9\\u03b1 \\u03c4\\u03af \\u1f00\\u03c0\\u1f78 \\u03c4\\u1fc6\\u03c2 \\u03bc\\u03ae\\u03bd\\u03b9\\u03b4\\u03bf\\u03c2 \\u1f24\\u03c1\\u03be\\u03b1\\u03c4\\u03bf \\u03bf\\u1f55\\u03c4\\u03c9\\u03c2 \\u03b4\\u03c5\\u03c3\\u03c6\\u03ae\\u03bc\\u03bf\\u03c5 \\u1f40\\u03bd\\u1f79\\u03bc\\u03b1\\u03c4\\u03bf\\u03c2\\u00b7 \\u03b4\\u03b9\\u03b1 \\u03b4\\u1f7b\\u03bf \\u03c4\\u03b1\\u1fe6\\u03c4\\u03b1\\u00b7 \\u03c0\\u03c1\\u1ff6\\u03c4\\u03bf\\u03bd \\u03bc\\u1f72\\u03bd \\u1f35\\u03bd' \\u1f10\\u03ba \\u03c4\\u03bf\\u1fe6 \\u03c0\\u1f71\\u03b8\\u03bf\\u03c5\\u03c2 \\u1f00\\u03c0\\u03ba\\u03b1\\u03c4\\u03b1\\u1fe5\\u03c1\\u03b5\\u1f7b\\u03c3\\u1fc3 \\u03c4\\u1f78 \\u03c4\\u03bf\\u03b9\\u03bf\\u1fe6\\u03c4\\u03bf \\u03bc\\u1f79\\u03c1\\u03b9\\u03bf\\u03bd \\u03c4\\u1fc6\\u03c2 \\u03c8\\u03c5\\u03c7\\u1fc6\\u03c2 \\u03ba\\u03b1\\u1f76 \\u03c0\\u03c1\\u03bf\\u03c3\\u03b5\\u03ba\\u03c4\\u03b9\\u03ba\\u03c9\\u03c4\\u1f73\\u03c1\\u03bf\\u03c5\\u03c2 \\u03c4\\u03bf\\u1f7a\\u03c2 \\u1f00\\u03ba\\u03c1\\u03bf\\u03b1\\u03c4\\u1f70\\u03c2 \\u1f10\\u03c0\\u03b9 \\u03c4\\u03bf\\u1fe6 \\u03bc\\u03b5\\u03b3\\u1f73\\u03b8\\u03bf\\u03c5\\u03c2 \\u03c0\\u03bf\\u03b9\\u03ae\\u03c3\\u1fc3 \\u03ba\\u03b1\\u1f76 \\u03c0\\u03c1\\u03bf\\u03c3\\u03b5\\u03b8\\u03af\\u03b6\\u1fc3 \\u03c6\\u1f73\\u03c1\\u03b5\\u03b9\\u03bd \\u03b3\\u03b5\\u03bd\\u03bd\\u03b1\\u03af\\u03c9\\u03c2 \\u1f21\\u03bc\\u1fb6\\u03c2 \\u03c4\\u1f70 \\u03c0\\u1f71\\u03b8\\u03b7 . \\u03bc\\u1f73\\u03bb\\u03bb\\u03c9\\u03bd \\u03c0\\u03bf\\u03bb\\u03bb\\u1f73\\u03bc\\u03bf\\u03c5\\u03c2 \\u1f00\\u03c0\\u03b1\\u03b3\\u03b3\\u1f73\\u03bb\\u03bb\\u03b5\\u03b9\\u03bd\\u00b7 \\u03b4\\u03b5\\u1f7b\\u03c4\\u03b5\\u03c1\\u03bf\\u03bd . \\u1f35\\u03bd\\u03b1 \\u03c4\\u1f70 \\u1f10\\u03b3\\u03ba\\u1f7d\\u03bc\\u03b9\\u03b1 \\u03c4\\u1ff6\\u03bd \\u1f19\\u03bb\\u03bb\\u03ae\\u03bd\\u03c9\\u03bd \\u03c0\\u03b9\\u03b8\\u03b1\\u03bd\\u1f7d\\u03c4\\u03b5\\u03c1\\u03b1 \\u03c0\\u03bf\\u03b9\\u03ae\\u03c3\\u1fc3\\u00b7 \\u1f10\\u03c0\\u03b5\\u1f76 \\u03b4\\u1f72 \\u1f14\\u03bc\\u03b5\\u03bb\\u03bb\\u03b5 , \\u03bd\\u03b9\\u03ba\\u03c9\\u03bd\\u03c4\\u03b1\\u03c2 \\u1f00\\u03c0\\u03bf\\u03c6\\u03b1\\u03af\\u03bd\\u03b5\\u03b9\\u03bd \\u03c4\\u03bf\\u1f7a\\u03c2 \\u1f19\\u03bb\\u03bb\\u03b7\\u03bd\\u03b1\\u03c2 , \\u03b5\\u1f30\\u03ba\\u1f79\\u03c4\\u03c9\\u03c2 \\u03bf\\u1f50 \\u03ba\\u03b1\\u03c4\\u03b1\\u03c4\\u03c1\\u1f73\\u03c7\\u03b5\\u03b9 \\u1f00\\u03be\\u03b9\\u03bf\\u03c0\\u03b9\\u03c3\\u03c4\\u1f79\\u03c4\\u03b5\\u03c1\\u03bf\\u03bd \\u1f10\\u03ba \\u03c4\\u03bf\\u1fe6 \\u03bc\\u1f74 \\u03c0\\u03b1\\u03bd\\u03c4\\u03b1 \\u03c7\\u03b1\\u03c1\\u03af\\u03b6\\u03b5\\u03c3\\u03b8\\u03b1\\u03b9 \\u03c4\\u1ff7 \\u03b5\\u03ba\\u03b5\\u03af\\u03bd\\u03c9\\u03bd \\u1f10\\u03c0\\u03b1\\u03af\\u03bd\\u1ff3\\u00b7 \\u1f24\\u03c1\\u03be\\u03b1\\u03c4\\u03bf \\u03bc\\u1f72\\u03bd \\u1f00\\u03c0\\u1f78 \\u03bc\\u03ae\\u03bd\\u03b9\\u03b4\\\u001b[39m..."
      ]
     },
     "execution_count": 5,
     "metadata": {},
     "output_type": "execute_result"
    }
   ],
   "source": [
    "import edu.holycross.shot.ohco2._\n",
    "import edu.holycross.shot.dse._\n",
    "import edu.holycross.shot.greek._\n",
    "\n",
    "val corpus = lib.textRepository.get.corpus\n",
    "val dsev = DseVector.fromCiteLibrary(lib)\n",
    "val scholia = corpus.nodes.filter(_.urn.textGroup == \"tlg5026\")"
   ]
  },
  {
   "cell_type": "markdown",
   "metadata": {},
   "source": [
    "## Search and format results "
   ]
  },
  {
   "cell_type": "code",
   "execution_count": 6,
   "metadata": {},
   "outputs": [
    {
     "data": {
      "text/plain": [
       "\u001b[36mpageBaseUrl\u001b[39m: \u001b[32mString\u001b[39m = \u001b[32m\"http://www.homermultitext.org/facsimiles/venetus-a/\"\u001b[39m\n",
       "defined \u001b[32mfunction\u001b[39m \u001b[36msearch\u001b[39m"
      ]
     },
     "execution_count": 6,
     "metadata": {},
     "output_type": "execute_result"
    }
   ],
   "source": [
    "\n",
    "val pageBaseUrl = \"http://www.homermultitext.org/facsimiles/venetus-a/\"\n",
    "\n",
    "def search(s: String) = {\n",
    "  val matchedPsgs = scholia.filter(_.text.contains(s))\n",
    "  val pls = if (matchedPsgs.size == 1) { \"\" } else  { \"s\" }\n",
    "  val hdr = s\"<h2>Search for string ${s}</h2>\" +\n",
    "  s\"<p>Found ${matchedPsgs.size} passage${pls}</p>\"\n",
    "  val results = for ( (urn, idx)  <- matchedPsgs.map(_.urn).zipWithIndex) yield {\n",
    "    val scholion = urn.collapsePassageBy(1)\n",
    "    //println(scholion)\n",
    "    val nd = corpus.nodes.filter(nd => scholion > nd.urn)\n",
    "    //println(nd)\n",
    "    val text = nd.map(n => \"<blockquote>\" + n.text.replaceAll(s, \"<strong>\" + s + \"</strong>\") + \"</blockquote>\" )\n",
    "    val pgOpt = dsev.tbsForText(scholion)\n",
    "    pgOpt match  {\n",
    "      case None => {\n",
    "\n",
    "        s\"<li> <strong>${idx + 1}/${matchedPsgs.size}</strong> ${scholion} (Sadly, no page indexed in DSE) \"  + text.mkString(\"\\n\")  + \"</li>\"\n",
    "      }\n",
    "      case _ => {\n",
    "        val pg = pgOpt.get.objectComponent\n",
    "        val url = pageBaseUrl + pg + \"/\"\n",
    "\n",
    "        val link = \"<a href=\\\"\" + url + \"\\\">facsimile</a>\"\n",
    "\n",
    "        s\"<li> <strong>${idx + 1}/${matchedPsgs.size}</strong> ${scholion}, page ${pg} (${link})\" + text.mkString(\"\\n\") + \"</li>\"\n",
    "      }\n",
    "    }\n",
    "  }\n",
    "  Html(hdr + results.mkString(\"\\n\"))\n",
    "}\n"
   ]
  }
 ],
 "metadata": {
  "kernel_info": {
   "name": "scala212"
  },
  "kernelspec": {
   "display_name": "Scala (2.12)",
   "language": "scala",
   "name": "scala212"
  },
  "language_info": {
   "codemirror_mode": "text/x-scala",
   "file_extension": ".scala",
   "mimetype": "text/x-scala",
   "name": "scala",
   "nbconvert_exporter": "script",
   "version": "2.12.10"
  },
  "nteract": {
   "version": "0.15.0"
  }
 },
 "nbformat": 4,
 "nbformat_minor": 2
}
